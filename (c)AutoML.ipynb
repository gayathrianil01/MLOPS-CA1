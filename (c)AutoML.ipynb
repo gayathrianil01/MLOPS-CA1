{
 "cells": [
  {
   "cell_type": "code",
   "execution_count": 3,
   "metadata": {},
   "outputs": [],
   "source": [
    "import numpy as np\n",
    "import pandas as pd\n",
    "import os\n",
    "from sklearn.model_selection import train_test_split, GridSearchCV\n",
    "from sklearn.linear_model import LinearRegression\n",
    "from sklearn.ensemble import RandomForestRegressor, GradientBoostingRegressor\n",
    "from sklearn.metrics import mean_squared_error, r2_score\n",
    "import joblib"
   ]
  },
  {
   "cell_type": "code",
   "execution_count": 4,
   "metadata": {},
   "outputs": [],
   "source": [
    "class ModelObject:\n",
    "    def __init__(self, model_name, model, params, best_params, evaluation_metrics, version):\n",
    "        self.model_name = model_name\n",
    "        self.model = model\n",
    "        self.params = params\n",
    "        self.best_params = best_params\n",
    "        self.evaluation_metrics = evaluation_metrics\n",
    "        self.version = version\n",
    "        \n",
    "    def log_details(self):\n",
    "        log_message = f\"Model: {self.model_name} (Version: {self.version})\\n\"\n",
    "        log_message += f\"Initial Parameters: {self.params}\\n\"\n",
    "        log_message += f\"Best Parameters after tuning: {self.best_params}\\n\"\n",
    "        log_message += f\"Evaluation Metrics: {self.evaluation_metrics}\\n\"\n",
    "        return log_message\n",
    "\n",
    "    def save(self, save_path):\n",
    "        joblib.dump(self, save_path)\n",
    "        print(f\"Model saved at: {save_path}\")"
   ]
  },
  {
   "cell_type": "code",
   "execution_count": 5,
   "metadata": {},
   "outputs": [],
   "source": [
    "class Dataset:\n",
    "    def __init__(self):\n",
    "        self.data = None\n",
    "        self.target = None\n",
    "        self.X_train = None\n",
    "        self.X_test = None\n",
    "        self.y_train = None\n",
    "        self.y_test = None\n",
    "\n",
    "    def load_data(self):\n",
    "        \n",
    "        np.random.seed(42)\n",
    "        num_samples = 1000\n",
    "        self.data = pd.DataFrame({\n",
    "            'activity_level': np.random.rand(num_samples) * 10,  # Example feature\n",
    "            'hours_of_sleep': np.random.rand(num_samples) * 10,  # Example feature\n",
    "            'age': np.random.randint(18, 65, size=num_samples),    # Example feature\n",
    "            'calorie_intake': np.random.rand(num_samples) * 3000  # Target variable\n",
    "        })\n",
    "        self.target = self.data.pop('calorie_intake')\n",
    "\n",
    "    def preprocess(self):\n",
    "        self.X_train, self.X_test, self.y_train, self.y_test = train_test_split(\n",
    "            self.data, self.target, test_size=0.2, random_state=42\n",
    "        )"
   ]
  },
  {
   "cell_type": "code",
   "execution_count": 6,
   "metadata": {},
   "outputs": [],
   "source": [
    "class ModelSelector:\n",
    "    def __init__(self):\n",
    "        self.models = {\n",
    "            'LinearRegression': LinearRegression(),\n",
    "            'RandomForestRegressor': RandomForestRegressor(),\n",
    "            'GradientBoostingRegressor': GradientBoostingRegressor()\n",
    "        }\n",
    "        self.best_model_object = None\n",
    "        self.version = 1  \n",
    "\n",
    "    def hyperparameter_tuning(self, model, param_grid, X_train, y_train):\n",
    "        grid_search = GridSearchCV(model, param_grid, cv=5, n_jobs=-1, verbose=1)\n",
    "        grid_search.fit(X_train, y_train)\n",
    "        return grid_search.best_estimator_, grid_search.best_params_\n",
    "\n",
    "    def select_model(self, X_train, y_train, X_test, y_test):\n",
    "        param_grids = {\n",
    "            'LinearRegression': {},\n",
    "            'RandomForestRegressor': {'n_estimators': [10, 50, 100], 'max_depth': [3, 5, 7]},\n",
    "            'GradientBoostingRegressor': {'n_estimators': [50, 100], 'learning_rate': [0.01, 0.1]}\n",
    "        }\n",
    "\n",
    "        best_score = float('inf')\n",
    "        for model_name, model in self.models.items():\n",
    "            print(f\"Tuning {model_name}...\")\n",
    "            tuned_model, best_params = self.hyperparameter_tuning(model, param_grids[model_name], X_train, y_train)\n",
    "            \n",
    "            y_pred = tuned_model.predict(X_test)\n",
    "            mse = mean_squared_error(y_test, y_pred)\n",
    "            r2 = r2_score(y_test, y_pred)\n",
    "            evaluation_metrics = {\"mse\": mse, \"r2\": r2}\n",
    "\n",
    "            print(f\"{model_name} Test MSE: {mse}, R^2: {r2}\")\n",
    "\n",
    "            if mse < best_score:\n",
    "                best_score = mse\n",
    "                self.best_model_object = ModelObject(\n",
    "                    model_name=model_name,\n",
    "                    model=tuned_model,\n",
    "                    params=param_grids[model_name],\n",
    "                    best_params=best_params,\n",
    "                    evaluation_metrics=evaluation_metrics,\n",
    "                    version=self.version\n",
    "                )\n",
    "\n",
    "        print(f\"Best Model: {self.best_model_object.model_name}\")\n",
    "        return self.best_model_object\n",
    "\n",
    "    def save_best_model(self):\n",
    "        if self.best_model_object:\n",
    "            save_path = f\"models/{self.best_model_object.model_name}_v{self.version}.pkl\"\n",
    "            self.best_model_object.save(save_path)\n",
    "            self.version += 1 "
   ]
  },
  {
   "cell_type": "code",
   "execution_count": 7,
   "metadata": {},
   "outputs": [],
   "source": [
    "class AutoMLPipeline:\n",
    "    def __init__(self):\n",
    "        self.dataset = Dataset()\n",
    "        self.model_selector = ModelSelector()\n",
    "\n",
    "    def run(self):\n",
    "        print(\"Loading and Preprocessing Data\")\n",
    "        self.dataset.load_data()\n",
    "        self.dataset.preprocess()\n",
    "\n",
    "        print(\"Selecting the best model\")\n",
    "        best_model = self.model_selector.select_model(\n",
    "            self.dataset.X_train, self.dataset.y_train, \n",
    "            self.dataset.X_test, self.dataset.y_test\n",
    "        )\n",
    "\n",
    "        self.model_selector.save_best_model()"
   ]
  },
  {
   "cell_type": "code",
   "execution_count": 8,
   "metadata": {},
   "outputs": [
    {
     "name": "stdout",
     "output_type": "stream",
     "text": [
      "Loading and Preprocessing Data...\n",
      "Selecting the best model...\n",
      "Tuning LinearRegression...\n",
      "Fitting 5 folds for each of 1 candidates, totalling 5 fits\n",
      "LinearRegression Test MSE: 671610.5610383457, R^2: -0.007077876653258652\n",
      "Tuning RandomForestRegressor...\n",
      "Fitting 5 folds for each of 9 candidates, totalling 45 fits\n",
      "RandomForestRegressor Test MSE: 685317.8959758553, R^2: -0.027631981314894638\n",
      "Tuning GradientBoostingRegressor...\n",
      "Fitting 5 folds for each of 4 candidates, totalling 20 fits\n",
      "GradientBoostingRegressor Test MSE: 676380.6526941308, R^2: -0.014230613752452825\n",
      "Best Model: LinearRegression\n",
      "Model saved at: models/LinearRegression_v1.pkl\n"
     ]
    }
   ],
   "source": [
    "if __name__ == \"__main__\":\n",
    "    pipeline = AutoMLPipeline()\n",
    "    pipeline.run()"
   ]
  }
 ],
 "metadata": {
  "kernelspec": {
   "display_name": "Python 3 (ipykernel)",
   "language": "python",
   "name": "python3"
  },
  "language_info": {
   "codemirror_mode": {
    "name": "ipython",
    "version": 3
   },
   "file_extension": ".py",
   "mimetype": "text/x-python",
   "name": "python",
   "nbconvert_exporter": "python",
   "pygments_lexer": "ipython3",
   "version": "3.11.5"
  }
 },
 "nbformat": 4,
 "nbformat_minor": 2
}
